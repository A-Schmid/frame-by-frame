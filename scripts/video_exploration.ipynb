{
 "cells": [
  {
   "cell_type": "code",
   "execution_count": 1,
   "id": "alert-closure",
   "metadata": {},
   "outputs": [],
   "source": [
    "import pandas as pd\n",
    "from matplotlib import pyplot as plt\n",
    "import seaborn as sns\n",
    "import config"
   ]
  },
  {
   "cell_type": "code",
   "execution_count": 2,
   "id": "stretch-adrian",
   "metadata": {},
   "outputs": [
    {
     "data": {
      "text/html": [
       "<div>\n",
       "<style scoped>\n",
       "    .dataframe tbody tr th:only-of-type {\n",
       "        vertical-align: middle;\n",
       "    }\n",
       "\n",
       "    .dataframe tbody tr th {\n",
       "        vertical-align: top;\n",
       "    }\n",
       "\n",
       "    .dataframe thead th {\n",
       "        text-align: right;\n",
       "    }\n",
       "</style>\n",
       "<table border=\"1\" class=\"dataframe\">\n",
       "  <thead>\n",
       "    <tr style=\"text-align: right;\">\n",
       "      <th></th>\n",
       "      <th>Unnamed: 0</th>\n",
       "      <th>file_id</th>\n",
       "      <th>name</th>\n",
       "      <th>path</th>\n",
       "      <th>frame_count</th>\n",
       "      <th>category</th>\n",
       "      <th>accuracy</th>\n",
       "      <th>mif_index</th>\n",
       "      <th>duration</th>\n",
       "      <th>duration_frames</th>\n",
       "      <th>fps</th>\n",
       "      <th>width</th>\n",
       "      <th>height</th>\n",
       "      <th>best_category</th>\n",
       "      <th>best_category_accuracy</th>\n",
       "      <th>aspect_ratio</th>\n",
       "    </tr>\n",
       "  </thead>\n",
       "  <tbody>\n",
       "    <tr>\n",
       "      <th>0</th>\n",
       "      <td>0</td>\n",
       "      <td>0</td>\n",
       "      <td>vine-Slicing-the-gouda-delicious-cheese-h0FYlY...</td>\n",
       "      <td>../videos_processed/slicing/vine-Slicing-the-g...</td>\n",
       "      <td>89</td>\n",
       "      <td>slicing</td>\n",
       "      <td>0.070857</td>\n",
       "      <td>44</td>\n",
       "      <td>3.00</td>\n",
       "      <td>75</td>\n",
       "      <td>25.0</td>\n",
       "      <td>480</td>\n",
       "      <td>480</td>\n",
       "      <td>sanding</td>\n",
       "      <td>0.274699</td>\n",
       "      <td>1.000000</td>\n",
       "    </tr>\n",
       "    <tr>\n",
       "      <th>1</th>\n",
       "      <td>1</td>\n",
       "      <td>1</td>\n",
       "      <td>yt-_yXoA1joYRY_39</td>\n",
       "      <td>../videos_processed/slicing/yt-_yXoA1joYRY_39.mp4</td>\n",
       "      <td>89</td>\n",
       "      <td>slicing</td>\n",
       "      <td>0.345144</td>\n",
       "      <td>37</td>\n",
       "      <td>3.04</td>\n",
       "      <td>76</td>\n",
       "      <td>25.0</td>\n",
       "      <td>480</td>\n",
       "      <td>360</td>\n",
       "      <td>slicing</td>\n",
       "      <td>0.345144</td>\n",
       "      <td>1.333333</td>\n",
       "    </tr>\n",
       "    <tr>\n",
       "      <th>2</th>\n",
       "      <td>2</td>\n",
       "      <td>2</td>\n",
       "      <td>vine-slicing-and-dicing-makeitwork-MwlKYUmtqvQ_1</td>\n",
       "      <td>../videos_processed/slicing/vine-slicing-and-d...</td>\n",
       "      <td>89</td>\n",
       "      <td>slicing</td>\n",
       "      <td>0.001159</td>\n",
       "      <td>72</td>\n",
       "      <td>3.00</td>\n",
       "      <td>75</td>\n",
       "      <td>25.0</td>\n",
       "      <td>480</td>\n",
       "      <td>480</td>\n",
       "      <td>studying</td>\n",
       "      <td>0.202018</td>\n",
       "      <td>1.000000</td>\n",
       "    </tr>\n",
       "    <tr>\n",
       "      <th>3</th>\n",
       "      <td>3</td>\n",
       "      <td>3</td>\n",
       "      <td>yt-_Unr3Eu8Rpc_103</td>\n",
       "      <td>../videos_processed/slicing/yt-_Unr3Eu8Rpc_103...</td>\n",
       "      <td>89</td>\n",
       "      <td>slicing</td>\n",
       "      <td>0.006845</td>\n",
       "      <td>33</td>\n",
       "      <td>3.04</td>\n",
       "      <td>76</td>\n",
       "      <td>25.0</td>\n",
       "      <td>1280</td>\n",
       "      <td>720</td>\n",
       "      <td>cooking</td>\n",
       "      <td>0.290147</td>\n",
       "      <td>1.777778</td>\n",
       "    </tr>\n",
       "    <tr>\n",
       "      <th>4</th>\n",
       "      <td>4</td>\n",
       "      <td>4</td>\n",
       "      <td>yt--pncWvsLfh0_56</td>\n",
       "      <td>../videos_processed/slicing/yt--pncWvsLfh0_56.mp4</td>\n",
       "      <td>71</td>\n",
       "      <td>slicing</td>\n",
       "      <td>0.018701</td>\n",
       "      <td>71</td>\n",
       "      <td>3.04</td>\n",
       "      <td>76</td>\n",
       "      <td>25.0</td>\n",
       "      <td>1280</td>\n",
       "      <td>720</td>\n",
       "      <td>cooking</td>\n",
       "      <td>0.154586</td>\n",
       "      <td>1.777778</td>\n",
       "    </tr>\n",
       "  </tbody>\n",
       "</table>\n",
       "</div>"
      ],
      "text/plain": [
       "   Unnamed: 0  file_id                                               name  \\\n",
       "0           0        0  vine-Slicing-the-gouda-delicious-cheese-h0FYlY...   \n",
       "1           1        1                                  yt-_yXoA1joYRY_39   \n",
       "2           2        2   vine-slicing-and-dicing-makeitwork-MwlKYUmtqvQ_1   \n",
       "3           3        3                                 yt-_Unr3Eu8Rpc_103   \n",
       "4           4        4                                  yt--pncWvsLfh0_56   \n",
       "\n",
       "                                                path  frame_count category  \\\n",
       "0  ../videos_processed/slicing/vine-Slicing-the-g...           89  slicing   \n",
       "1  ../videos_processed/slicing/yt-_yXoA1joYRY_39.mp4           89  slicing   \n",
       "2  ../videos_processed/slicing/vine-slicing-and-d...           89  slicing   \n",
       "3  ../videos_processed/slicing/yt-_Unr3Eu8Rpc_103...           89  slicing   \n",
       "4  ../videos_processed/slicing/yt--pncWvsLfh0_56.mp4           71  slicing   \n",
       "\n",
       "   accuracy  mif_index  duration  duration_frames   fps  width  height  \\\n",
       "0  0.070857         44      3.00               75  25.0    480     480   \n",
       "1  0.345144         37      3.04               76  25.0    480     360   \n",
       "2  0.001159         72      3.00               75  25.0    480     480   \n",
       "3  0.006845         33      3.04               76  25.0   1280     720   \n",
       "4  0.018701         71      3.04               76  25.0   1280     720   \n",
       "\n",
       "  best_category  best_category_accuracy  aspect_ratio  \n",
       "0       sanding                0.274699      1.000000  \n",
       "1       slicing                0.345144      1.333333  \n",
       "2      studying                0.202018      1.000000  \n",
       "3       cooking                0.290147      1.777778  \n",
       "4       cooking                0.154586      1.777778  "
      ]
     },
     "execution_count": 2,
     "metadata": {},
     "output_type": "execute_result"
    }
   ],
   "source": [
    "df = pd.read_csv(f'{config.DATA_PATH}/videos_processed.csv')\n",
    "df['aspect_ratio'] = df['width'] / df['height']\n",
    "df.head()"
   ]
  },
  {
   "cell_type": "code",
   "execution_count": 3,
   "id": "through-belief",
   "metadata": {},
   "outputs": [
    {
     "data": {
      "text/plain": [
       "<AxesSubplot:xlabel='duration', ylabel='count'>"
      ]
     },
     "execution_count": 3,
     "metadata": {},
     "output_type": "execute_result"
    },
    {
     "data": {
      "image/png": "[encoded data removed]",
      "text/plain": [
       "<Figure size 432x288 with 1 Axes>"
      ]
     },
     "metadata": {
      "needs_background": "light"
     },
     "output_type": "display_data"
    }
   ],
   "source": [
    "sns.countplot(data=df, x='duration')"
   ]
  },
  {
   "cell_type": "code",
   "execution_count": 4,
   "id": "shared-arkansas",
   "metadata": {},
   "outputs": [
    {
     "data": {
      "text/plain": [
       "<matplotlib.lines.Line2D at 0x7f54c6a7a130>"
      ]
     },
     "execution_count": 4,
     "metadata": {},
     "output_type": "execute_result"
    },
    {
     "data": {
      "image/png": "[encoded data removed]",
      "text/plain": [
       "<Figure size 432x288 with 1 Axes>"
      ]
     },
     "metadata": {
      "needs_background": "light"
     },
     "output_type": "display_data"
    }
   ],
   "source": [
    "sns.countplot(data=df.sort_values('aspect_ratio'), x='aspect_ratio')\n",
    "\n",
    "#print(df.sort_values('aspect_ratio')['aspect_ratio'].unique())\n",
    "\n",
    "counter = 0\n",
    "for aspect_ratio in df.sort_values('aspect_ratio')['aspect_ratio'].unique():\n",
    "    if aspect_ratio >= 1:\n",
    "        # landscape format\n",
    "        break\n",
    "    counter += 1\n",
    "\n",
    "# left of the line: portrait\n",
    "# right of the line: landscape\n",
    "plt.axvline(counter, linestyle='--', color='lightgray')"
   ]
  },
  {
   "cell_type": "code",
   "execution_count": 5,
   "id": "electric-stability",
   "metadata": {},
   "outputs": [
    {
     "data": {
      "text/plain": [
       "<AxesSubplot:ylabel='best_category_accuracy'>"
      ]
     },
     "execution_count": 5,
     "metadata": {},
     "output_type": "execute_result"
    },
    {
     "data": {
      "image/png": "[encoded data removed]",
      "text/plain": [
       "<Figure size 432x288 with 1 Axes>"
      ]
     },
     "metadata": {
      "needs_background": "light"
     },
     "output_type": "display_data"
    }
   ],
   "source": [
    "sns.swarmplot(data=df, y='accuracy', size=1)\n",
    "sns.swarmplot(data=df, y='best_category_accuracy', size=1, color='orange', alpha=0.5)"
   ]
  },
  {
   "cell_type": "code",
   "execution_count": 6,
   "id": "stuck-underwear",
   "metadata": {},
   "outputs": [
    {
     "data": {
      "text/plain": [
       "<AxesSubplot:ylabel='best_category_accuracy'>"
      ]
     },
     "execution_count": 6,
     "metadata": {},
     "output_type": "execute_result"
    },
    {
     "data": {
      "image/png": "[encoded data removed]",
      "text/plain": [
       "<Figure size 432x288 with 1 Axes>"
      ]
     },
     "metadata": {
      "needs_background": "light"
     },
     "output_type": "display_data"
    }
   ],
   "source": [
    "sns.swarmplot(data=df[df['category'] != df['best_category']], y='accuracy', size=1)\n",
    "sns.swarmplot(data=df[df['category'] != df['best_category']], y='best_category_accuracy', size=1, color='orange', alpha=0.5)"
   ]
  },
  {
   "cell_type": "code",
   "execution_count": 7,
   "id": "quantitative-syracuse",
   "metadata": {},
   "outputs": [
    {
     "data": {
      "text/plain": [
       "<AxesSubplot:xlabel='best_category_accuracy', ylabel='accuracy'>"
      ]
     },
     "execution_count": 7,
     "metadata": {},
     "output_type": "execute_result"
    },
    {
     "data": {
      "image/png": "[encoded data removed]",
      "text/plain": [
       "<Figure size 432x288 with 1 Axes>"
      ]
     },
     "metadata": {
      "needs_background": "light"
     },
     "output_type": "display_data"
    }
   ],
   "source": [
    "sns.scatterplot(data=df[df['category'] != df['best_category']], x='best_category_accuracy', y='accuracy')"
   ]
  },
  {
   "cell_type": "code",
   "execution_count": 8,
   "id": "narrow-latino",
   "metadata": {},
   "outputs": [
    {
     "data": {
      "text/plain": [
       "<AxesSubplot:xlabel='mif_index', ylabel='count'>"
      ]
     },
     "execution_count": 8,
     "metadata": {},
     "output_type": "execute_result"
    },
    {
     "data": {
      "image/png": "[encoded data removed]",
      "text/plain": [
       "<Figure size 432x288 with 1 Axes>"
      ]
     },
     "metadata": {
      "needs_background": "light"
     },
     "output_type": "display_data"
    }
   ],
   "source": [
    "sns.countplot(data=df, x='mif_index')"
   ]
  },
  {
   "cell_type": "raw",
   "id": "nervous-dispatch",
   "metadata": {},
   "source": [
    "### attention! this one takes a while!\n",
    "\n",
    "# requires pysankey\n",
    "from pySankey.sankey import sankey\n",
    "\n",
    "df_conflict = df[df['category'] != df['best_category']]\n",
    "\n",
    "sankey(\n",
    "    left=df_conflict[\"category\"], right=df_conflict[\"best_category\"], \n",
    "    #leftWeight= df[\"accuracy\"], rightWeight=df[\"best_category_accuracy\"], \n",
    "    #aspect=20, fontsize=20\n",
    ")"
   ]
  },
  {
   "cell_type": "code",
   "execution_count": 15,
   "id": "further-unemployment",
   "metadata": {},
   "outputs": [
    {
     "name": "stdout",
     "output_type": "stream",
     "text": [
      "slicing ['sanding' 'studying' 'cooking' 'smashing' 'carving' 'peeling']\n",
      "interviewing ['lecturing' 'asking']\n",
      "whistling ['adult+female+speaking']\n",
      "watering ['spraying' 'leaking' 'gardening' 'planting' 'weeding']\n",
      "grilling ['barbecuing' 'frying' 'spraying' 'mowing']\n",
      "pulling ['bowing' 'massaging' 'climbing']\n",
      "drawing ['handwriting']\n",
      "folding ['pushing' 'wrapping' 'waxing']\n",
      "cooking ['stirring' 'baking']\n",
      "turning ['drumming' 'assembling' 'juggling' 'pitching' 'hugging' 'dancing'\n",
      " 'riding']\n",
      "licking ['shaving' 'drinking' 'writing']\n",
      "teaching ['interviewing' 'lecturing' 'juggling' 'laughing']\n",
      "hugging ['dancing' 'crying']\n",
      "playing+fun ['dancing' 'clapping' 'child+speaking' 'swinging' 'wrestling']\n",
      "gardening ['picking' 'planting' 'sowing']\n",
      "barbecuing ['grilling']\n",
      "skating ['dancing']\n",
      "kneeling ['dancing']\n",
      "dripping ['painting' 'brushing']\n",
      "weeding ['sowing' 'mowing' 'digging' 'gardening']\n",
      "spilling ['peeling' 'tickling' 'painting' 'drinking' 'manicuring' 'flipping']\n",
      "shaking ['clapping' 'adult+male+speaking' 'laughing' 'rocking' 'sweeping']\n",
      "leaping ['jumping']\n",
      "bowling ['squatting']\n",
      "pouring ['stirring' 'cooking']\n",
      "tuning ['playing+music' 'filming' 'adult+female+singing' 'painting']\n",
      "entering ['mopping' 'opening' 'locking' 'arresting' 'kicking']\n",
      "overflowing ['wetting' 'pouring' 'cleaning' 'bathing']\n",
      "crying ['sneezing' 'child+speaking']\n",
      "blocking ['dancing' 'stretching']\n",
      "typing ['wrapping']\n",
      "running ['sprinting' 'skiing' 'throwing' 'fighting' 'jogging']\n",
      "fighting ['juggling' 'tickling' 'hugging' 'wrestling' 'punching' 'kicking'\n",
      " 'child+speaking']\n",
      "ascending ['hiking' 'handcuffing' 'gripping']\n",
      "burying ['planting' 'digging']\n",
      "lifting ['squatting' 'dancing' 'raising']\n",
      "pressing ['wrestling' 'carving']\n",
      "praying ['dancing' 'cheerleading' 'clapping' 'standing' 'baptizing']\n",
      "arresting ['autographing' 'coaching' 'handcuffing']\n",
      "smashing ['juggling' 'hammering' 'carving' 'vacuuming' 'stomping']\n",
      "cracking ['massaging' 'chewing' 'adult+female+speaking' 'slapping']\n",
      "locking ['assembling' 'gripping' 'tying' 'towing' 'knocking']\n",
      "drying ['inflating']\n",
      "standing ['adult+male+speaking' 'squatting' 'queuing' 'child+speaking' 'stealing'\n",
      " 'wetting' 'reading' 'discussing' 'arresting']\n",
      "swimming ['stroking']\n",
      "clipping ['sowing' 'trimming' 'manicuring' 'gardening' 'picking']\n",
      "child+singing ['adult+male+singing']\n",
      "drinking ['pouring']\n",
      "brushing ['combing' 'putting' 'drying']\n",
      "wrapping ['folding' 'tying' 'wrestling' 'combing']\n",
      "bouncing ['flipping' 'inflating' 'dunking' 'stretching' 'throwing']\n",
      "stretching ['bowling' 'kneeling']\n",
      "dressing ['tying' 'buttoning' 'laughing' 'massaging']\n",
      "stacking ['vacuuming' 'shaving' 'unloading']\n",
      "skipping ['guarding' 'dancing' 'jogging' 'teaching']\n",
      "slapping ['autographing' 'adult+male+speaking' 'carving' 'knocking' 'talking'\n",
      " 'discussing']\n",
      "twisting ['tying' 'stretching' 'kneeling' 'massaging']\n",
      "marrying ['officiating' 'praying']\n",
      "shaving ['trimming']\n",
      "submerging ['swimming' 'stroking' 'splashing' 'repairing' 'measuring']\n",
      "saluting ['standing' 'adult+female+singing' 'adult+male+singing' 'slapping'\n",
      " 'guarding']\n",
      "falling ['playing+videogames' 'kneeling' 'mowing' 'sprinting' 'laughing'\n",
      " 'juggling' 'drumming']\n",
      "spitting ['sneezing' 'arresting' 'pushing' 'crying' 'squatting' 'sprinting'\n",
      " 'child+speaking']\n",
      "filling ['dipping' 'peeling' 'handwriting' 'brushing']\n",
      "tearing ['cooking' 'taping' 'bathing' 'crafting' 'assembling' 'drinking']\n",
      "photographing ['cracking' 'tapping' 'camping' 'boating' 'filming']\n",
      "waxing ['taping' 'laughing' 'massaging']\n",
      "cutting ['slicing' 'crafting']\n",
      "chewing ['eating' 'peeling']\n",
      "rinsing ['stirring' 'cleaning' 'massaging' 'sanding']\n",
      "boarding ['skating' 'skiing']\n",
      "driving ['steering']\n",
      "hitting ['pitching' 'fencing' 'throwing' 'fighting']\n",
      "flipping ['bouncing' 'playing+videogames' 'pushing']\n",
      "dining ['peeling' 'whistling' 'eating' 'knitting']\n",
      "fueling ['driving' 'fishing' 'towing' 'assembling' 'adult+male+speaking']\n",
      "buttoning ['tying' 'calling' 'smelling']\n",
      "scrubbing ['sanding' 'mopping' 'folding' 'spinning']\n",
      "painting ['stomping']\n",
      "washing ['crafting' 'repairing' 'rinsing' 'stretching' 'flooding' 'shaving']\n",
      "spinning ['manicuring']\n",
      "serving ['dining' 'cooking' 'taping' 'driving' 'baking' 'adult+female+speaking']\n",
      "swinging ['digging' 'diving' 'bowling' 'fishing' 'blocking' 'throwing' 'hanging'\n",
      " 'cleaning' 'jumping']\n",
      "draining ['peeling' 'rinsing' 'cooking']\n",
      "telephoning ['smoking' 'snuggling' 'calling' 'adult+female+speaking']\n",
      "fishing ['juggling']\n",
      "hiking ['juggling' 'wetting' 'walking' 'climbing']\n",
      "eating ['serving' 'tying' 'adult+female+speaking']\n",
      "working ['crushing' 'turning' 'sawing' 'sanding' 'drilling' 'whistling' 'painting'\n",
      " 'assembling']\n",
      "swerving ['dancing' 'fighting']\n",
      "officiating ['lecturing' 'dining' 'preaching' 'knitting' 'discussing']\n",
      "coughing ['sneezing' 'hugging' 'jogging' 'smoking']\n",
      "competing ['sprinting' 'serving' 'running' 'performing' 'racing']\n",
      "smiling ['lecturing' 'clapping' 'sneezing' 'laughing' 'adult+female+speaking'\n",
      " 'spinning' 'adult+male+speaking']\n",
      "mopping ['cleaning']\n",
      "singing ['adult+female+singing' 'signing']\n",
      "feeding ['drinking' 'eating']\n",
      "handcuffing ['taping']\n",
      "rubbing ['sanding' 'typing' 'scratching' 'waxing']\n",
      "plunging ['boating' 'squatting' 'jumping' 'swimming']\n",
      "pointing ['studying' 'swimming' 'tapping' 'sketching' 'skiing']\n",
      "spreading ['cooking' 'painting' 'spraying' 'sweeping' 'kneeling']\n",
      "adult+male+singing ['adult+male+speaking']\n",
      "filming ['serving' 'photographing' 'sitting' 'hunting' 'adult+male+speaking'\n",
      " 'juggling' 'climbing']\n",
      "bending ['stretching' 'stealing' 'kneeling' 'dancing']\n",
      "sliding ['landing' 'diving' 'fishing']\n",
      "autographing ['sketching']\n",
      "flying ['piloting' 'hiking' 'climbing' 'squatting']\n",
      "bubbling ['bathing']\n",
      "frying ['cooking' 'stirring']\n",
      "planting ['picking' 'gardening']\n",
      "stomping ['burning']\n",
      "racing ['snowing' 'marching']\n",
      "operating ['filming' 'measuring' 'typing' 'sanding']\n",
      "extinguishing ['barbecuing' 'stacking' 'combusting' 'throwing' 'burning']\n",
      "guarding ['marching']\n",
      "sprinkling ['vacuuming' 'crafting' 'typing' 'baking' 'cooking' 'dipping']\n",
      "splashing ['swimming' 'bathing' 'flipping']\n",
      "yawning ['tickling' 'sneezing']\n",
      "stirring ['cooking' 'discussing' 'dipping']\n",
      "coaching ['teaching' 'wrestling']\n",
      "opening ['folding' 'handcuffing' 'peeling' 'reading']\n",
      "bowing ['playing+music' 'kneeling']\n",
      "emptying ['leaking' 'baking' 'fishing' 'dipping' 'packing']\n",
      "packaging ['folding' 'unpacking' 'working' 'measuring']\n",
      "lecturing ['teaching']\n",
      "frowning ['whistling' 'adult+female+singing' 'adult+male+singing' 'crying' 'waking'\n",
      " 'bowling']\n",
      "sweeping ['mopping']\n",
      "drenching ['laughing']\n",
      "crouching ['stretching' 'squatting' 'kneeling']\n",
      "shrugging ['juggling' 'child+speaking' 'telephoning' 'adult+female+speaking'\n",
      " 'squinting' 'raising' 'laughing']\n",
      "waking ['crying' 'sleeping']\n",
      "loading ['unloading' 'starting' 'jumping' 'stacking']\n",
      "slipping ['shoveling' 'snowing' 'skipping']\n",
      "cheering ['celebrating' 'clapping' 'performing']\n",
      "sawing ['autographing' 'sanding' 'hunting']\n",
      "inflating ['blowing' 'folding']\n",
      "putting ['playing+sports']\n",
      "injecting ['tattooing']\n",
      "screwing ['repairing' 'plugging' 'drilling' 'turning' 'whistling']\n",
      "bicycling ['spinning' 'adult+male+speaking']\n",
      "clawing ['scratching' 'tickling' 'juggling']\n",
      "picking ['trimming']\n",
      "paying ['tattooing' 'discussing' 'selling' 'rocking' 'stealing' 'shopping']\n",
      "throwing ['pitching' 'dancing']\n",
      "sketching ['drawing']\n",
      "howling ['queuing' 'laughing']\n",
      "parading ['marching' 'stomping']\n",
      "baptizing ['preaching' 'draining' 'sitting']\n",
      "boxing ['punching']\n",
      "biting ['eating' 'sitting' 'exercising']\n",
      "rolling ['wrestling' 'camping']\n",
      "studying ['interviewing' 'telephoning' 'handwriting' 'typing' 'teaching' 'sitting']\n",
      "calling ['playing+music' 'adult+male+speaking' 'telephoning']\n",
      "constructing ['sanding' 'rubbing' 'assembling' 'building' 'stacking']\n",
      "attacking ['arresting' 'wrestling' 'fighting' 'dancing' 'squatting']\n",
      "shouting ['kicking' 'whistling' 'standing' 'singing' 'yawning' 'adult+male+singing']\n",
      "hitchhiking ['dunking']\n",
      "grooming ['barking' 'drying' 'bathing']\n",
      "unloading ['stacking' 'cooking' 'kneeling' 'exiting' 'wrapping' 'hugging' 'mowing']\n",
      "steering ['driving' 'riding' 'boating' 'starting' 'vacuuming']\n",
      "wetting ['stomping' 'fishing' 'baptizing' 'hiking']\n",
      "shopping ['stealing' 'asking' 'packing']\n",
      "winking ['tapping' 'child+speaking' 'smiling' 'interviewing' 'laughing' 'yawning']\n",
      "carving ['peeling' 'rubbing' 'assembling']\n",
      "cheerleading ['dancing']\n",
      "marching ['dancing']\n",
      "squinting ['laughing' 'mowing' 'sneezing' 'saluting' 'chewing']\n",
      "child+speaking ['child+singing']\n",
      "digging ['sowing']\n",
      "knocking ['sitting' 'painting' 'juggling']\n",
      "sowing ['digging' 'assembling' 'raining']\n",
      "spraying ['tapping' 'flowing' 'painting' 'hunting' 'packing' 'pouring' 'drying'\n",
      " 'child+singing']\n",
      "cleaning ['vacuuming' 'mopping' 'folding' 'tuning' 'cooking' 'bathing']\n",
      "pedaling ['bicycling']\n",
      "rafting ['boating']\n",
      "kissing ['laughing']\n",
      "snapping ['crafting' 'laughing' 'child+singing' 'child+speaking' 'tickling'\n",
      " 'juggling' 'tapping']\n",
      "plugging ['folding' 'playing+videogames' 'unpacking']\n",
      "dragging ['sweeping' 'stretching']\n",
      "buying ['shopping' 'sewing' 'autographing' 'picking']\n",
      "measuring ['folding' 'assembling' 'storming' 'mopping' 'sketching' 'carving'\n",
      " 'spreading' 'painting']\n",
      "discussing ['dripping' 'interviewing']\n",
      "adult+female+singing ['child+singing']\n",
      "sneezing ['interviewing' 'adult+male+singing' 'sitting' 'yawning']\n",
      "floating ['swimming' 'boating']\n",
      "dusting ['pressing' 'spraying' 'folding' 'combing' 'vacuuming']\n",
      "boating ['rowing']\n",
      "protesting ['adult+male+speaking']\n",
      "diving ['boarding' 'jumping']\n",
      "stitching ['sewing' 'pressing' 'peeling' 'sanding' 'tying']\n",
      "hammering ['folding' 'stacking' 'fighting' 'drilling' 'painting' 'tattooing'\n",
      " 'digging']\n",
      "sitting ['adult+female+speaking' 'smiling' 'kicking' 'vacuuming' 'discussing'\n",
      " 'tapping']\n",
      "sailing ['boating']\n",
      "taping ['dancing' 'injecting']\n",
      "drilling ['shooting' 'tying' 'carving']\n",
      "tickling ['stretching']\n",
      "raining ['camping']\n",
      "rising ['dunking' 'hugging' 'pushing' 'dancing' 'cheering']\n",
      "destroying ['serving' 'shaving' 'skating' 'mopping' 'blocking' 'walking' 'repairing']\n",
      "sniffing ['crying' 'sneezing' 'opening' 'adult+male+speaking' 'reading' 'drinking'\n",
      " 'blowing']\n",
      "breaking ['dancing' 'falling' 'cooking' 'dining' 'jumping' 'pushing']\n",
      "signing ['tapping' 'clapping' 'brushing' 'juggling' 'adult+female+speaking'\n",
      " 'standing']\n",
      "unpacking ['packing' 'assembling']\n",
      "writing ['handwriting' 'painting']\n",
      "closing ['juggling' 'baking']\n",
      "adult+female+speaking ['interviewing' 'discussing' 'boating']\n",
      "rocking ['swinging' 'cuddling' 'opening' 'sitting' 'tickling']\n",
      "fencing ['flipping']\n",
      "assembling ['sanding' 'packing' 'crafting' 'spinning' 'folding']\n",
      "trimming ['shooting' 'driving' 'picking' 'climbing' 'shaving']\n",
      "crawling ['kneeling' 'pushing']\n",
      "exiting ['swimming' 'skating' 'unloading' 'ascending' 'slapping' 'celebrating']\n",
      "shooting ['hunting' 'loading' 'aiming']\n",
      "performing ['juggling' 'dancing' 'adult+male+singing' 'stomping']\n",
      "clearing ['mopping' 'shoveling' 'packing' 'snowing']\n",
      "baking ['cooking']\n",
      "catching ['sliding' 'juggling' 'punting' 'kicking']\n",
      "crushing ['sowing' 'stomping' 'folding' 'smoking' 'hiking']\n",
      "piloting ['leaping' 'landing']\n",
      "snuggling ['cuddling']\n",
      "descending ['bicycling' 'hiking' 'climbing' 'skating' 'picking' 'ascending' 'skiing']\n",
      "giving ['juggling' 'coaching' 'dancing' 'child+speaking' 'discussing' 'preaching'\n",
      " 'standing']\n",
      "sanding ['carving' 'shaving']\n",
      "chopping ['slicing' 'cooking' 'cutting']\n",
      "jogging ['throwing' 'running' 'adult+male+speaking']\n",
      "tapping ['stacking']\n",
      "exercising ['pushing' 'stretching' 'spinning']\n",
      "sleeping ['tickling' 'waking' 'crying']\n",
      "riding ['skiing' 'bicycling' 'racing']\n",
      "cuddling ['kissing' 'hugging']\n",
      "poking ['tapping' 'adult+male+speaking' 'child+speaking' 'adult+female+speaking'\n",
      " 'wrapping' 'tickling']\n",
      "balancing ['stretching' 'juggling' 'bending' 'swinging' 'throwing']\n",
      "tying ['standing']\n",
      "playing+sports ['officiating' 'pitching' 'kicking' 'hitting' 'running' 'cheerleading']\n",
      "rowing ['boating']\n",
      "smoking ['drumming' 'crying' 'performing' 'juggling']\n",
      "hanging ['painting' 'rising' 'climbing' 'raising' 'pointing']\n",
      "flicking ['child+speaking' 'shooting' 'knitting' 'tapping' 'pressing']\n",
      "clapping ['child+singing' 'applauding']\n",
      "shredding ['discussing' 'handwriting' 'peeling']\n",
      "repairing ['shaving' 'sanding' 'painting' 'sowing' 'working' 'packing']\n",
      "smelling ['tying' 'sneezing' 'skipping' 'dining' 'dipping' 'eating' 'drinking']\n",
      "waving ['sprinting' 'planting' 'racing' 'signing' 'picking' 'cheerleading'\n",
      " 'howling']\n",
      "crafting ['folding' 'knitting']\n",
      "celebrating ['dancing' 'cheering' 'cleaning' 'clapping' 'adult+female+speaking']\n",
      "laughing ['dining' 'adult+female+singing']\n",
      "sprinting ['exercising' 'running' 'jogging' 'punting' 'dunking' 'skating']\n",
      "combusting ['burning' 'smoking' 'spinning']\n",
      "stealing ['flooding' 'arresting' 'washing' 'assembling' 'autographing']\n",
      "tripping ['dunking' 'crawling' 'arresting' 'kicking' 'skipping' 'bowling']\n",
      "gripping ['massaging']\n",
      "towing ['driving' 'sowing' 'pulling']\n",
      "cramming ['playing+videogames' 'discussing' 'adult+female+speaking']\n",
      "asking ['adult+male+speaking' 'squatting' 'hitchhiking' 'walking']\n",
      "adult+male+speaking ['interviewing' 'lecturing']\n",
      "pushing ['dunking' 'walking' 'squatting']\n",
      "jumping ['playing' 'diving' 'picking' 'swimming' 'wetting' 'child+speaking']\n",
      "applauding ['lecturing' 'autographing' 'clapping' 'coaching']\n",
      "sewing ['stitching' 'knitting' 'manicuring' 'assembling']\n",
      "roaring ['boarding' 'laughing']\n",
      "chasing ['skating' 'camping']\n",
      "walking ['barking' 'guarding' 'hitchhiking' 'marching' 'adult+male+speaking'\n",
      " 'skipping' 'arresting']\n",
      "packing ['packaging' 'scrubbing' 'folding' 'wrapping' 'stacking']\n",
      "aiming ['hunting' 'shooting' 'throwing' 'roaring' 'loading']\n",
      "raising ['juggling']\n",
      "reading ['child+speaking']\n",
      "scratching ['talking' 'massaging']\n",
      "carrying ['hugging' 'picking' 'walking' 'standing' 'blocking']\n"
     ]
    }
   ],
   "source": [
    "df_conflict = df[df['category'] != df['best_category']]\n",
    "\n",
    "for category in df_conflict['category'].unique():\n",
    "    print(category, df_conflict[df_conflict['category'] == category]['best_category'].unique())"
   ]
  },
  {
   "cell_type": "code",
   "execution_count": null,
   "id": "commercial-startup",
   "metadata": {},
   "outputs": [],
   "source": []
  }
 ],
 "metadata": {
  "kernelspec": {
   "display_name": "Python 3",
   "language": "python",
   "name": "python3"
  },
  "language_info": {
   "codemirror_mode": {
    "name": "ipython",
    "version": 3
   },
   "file_extension": ".py",
   "mimetype": "text/x-python",
   "name": "python",
   "nbconvert_exporter": "python",
   "pygments_lexer": "ipython3",
   "version": "3.9.2"
  }
 },
 "nbformat": 4,
 "nbformat_minor": 5
}
