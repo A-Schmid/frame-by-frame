{
  "nbformat": 4,
  "nbformat_minor": 0,
  "metadata": {
    "colab": {
      "name": "video_frame_extractor.ipynb",
      "provenance": [],
      "collapsed_sections": [
        "It6EcrGXB5LA",
        "0e7NUUQKEbNO",
        "jhyU7W5tITz8",
        "ifnAST0c5AFl",
        "_EHPolkasVfm",
        "n2ySdCXQswqz",
        "B6Gnxvovzzb9",
        "RPUYeePoIe4Y",
        "DibzhRYP3ep-",
        "UiJpzRBoRXpF",
        "-zq-alDxW_EN",
        "vfF3uMoqdk_T"
      ],
      "toc_visible": true
    },
    "kernelspec": {
      "name": "python3",
      "display_name": "Python 3"
    },
    "accelerator": "GPU"
  },
  "cells": [
    {
      "cell_type": "markdown",
      "metadata": {
        "id": "It6EcrGXB5LA"
      },
      "source": [
        "[16.10.20]\n",
        "Frame-by-frame classification\n",
        "=======================================================\n",
        "\n",
        "* Having a collection of videos with pre-defined \"true\" categories and a pretrained classifier:\n",
        "    1. extract each frame of each video;\n",
        "    2. perform a classification of each individual frame;\n",
        "    3. extract the **per-frame accuracies** for the true category.\n",
        "* Frame extractor variants:\n",
        "    * [decord](https://github.com/dmlc/decord) [implemented]:\n",
        "        ```\n",
        "        vr = decord.VideoReader()\n",
        "        frame_id_list = range(start, stop, pace)\n",
        "        video_frames = vr.get_batch(frame_id_list).asnumpy()\n",
        "        ```\n",
        "    * [OpenCV](https://opencv-python-tutroals.readthedocs.io/en/latest/py_tutorials/py_gui/py_video_display/py_video_display.html) [TODO]\n",
        " "
      ]
    },
    {
      "cell_type": "markdown",
      "metadata": {
        "id": "0e7NUUQKEbNO"
      },
      "source": [
        "# Moments in Time videos"
      ]
    },
    {
      "cell_type": "code",
      "metadata": {
        "id": "L8hadhSLB3Cz"
      },
      "source": [
        "%%bash\n",
        "unameOut=\"$(uname -s)\"\n",
        "case \"${unameOut}\" in\n",
        "    Linux*)     machine=Linux;;\n",
        "    Darwin*)    machine=Mac;;\n",
        "    CYGWIN*)    machine=Cygwin;;\n",
        "    MINGW*)     machine=MinGw;;\n",
        "    *)          machine=\"UNKNOWN:${unameOut}\"\n",
        "esac\n",
        "\n",
        "if [ ${machine} == 'Linux' ]\n",
        "then\n",
        "    pip install --upgrade decord\n",
        "else\n",
        "    echo \"Install decord following the steps in https://github.com/dmlc/decord#mac-os\"\n",
        "fi"
      ],
      "execution_count": null,
      "outputs": []
    },
    {
      "cell_type": "markdown",
      "metadata": {
        "id": "HQklTYcKOdCn"
      },
      "source": [
        "Clone the [frame-by-frame](https://github.com/CogNeuroUR/frame-by-frame) repo:"
      ]
    },
    {
      "cell_type": "code",
      "metadata": {
        "id": "2AVeVcIuOTfP"
      },
      "source": [
        "!git clone https://github.com/CogNeuroUR/frame-by-frame.git"
      ],
      "execution_count": null,
      "outputs": []
    },
    {
      "cell_type": "code",
      "metadata": {
        "id": "TlrGycfxE7TP"
      },
      "source": [
        "# Imports\n",
        "import os\n",
        "from decord import VideoReader\n",
        "from decord import cpu #, gpu\n",
        "import decord\n",
        "decord.bridge.set_bridge('native') # Seems to be the fastest option\n",
        "\n",
        "from pathlib import Path"
      ],
      "execution_count": null,
      "outputs": []
    },
    {
      "cell_type": "markdown",
      "metadata": {
        "id": "jhyU7W5tITz8"
      },
      "source": [
        "## Frame-by-frame classification"
      ]
    },
    {
      "cell_type": "markdown",
      "metadata": {
        "id": "ifnAST0c5AFl"
      },
      "source": [
        "##### ResNet50-MiT (torch)"
      ]
    },
    {
      "cell_type": "code",
      "metadata": {
        "id": "caTc-t995C3n"
      },
      "source": [
        "import torch\n",
        "import torch.nn as nn\n",
        "import torchvision.models as models\n",
        "import torchvision.transforms as transforms\n",
        "from torch.autograd import Variable\n",
        "from torch.nn import functional as F\n",
        "\n",
        "from PIL import Image\n",
        "from os import listdir\n",
        "from os.path import isfile, join\n",
        "\n",
        "import numpy as np\n",
        "from random import sample, randint\n",
        "import matplotlib.pyplot as plt\n",
        "import seaborn as sns"
      ],
      "execution_count": null,
      "outputs": []
    },
    {
      "cell_type": "code",
      "metadata": {
        "id": "v5YRCGbaPoss"
      },
      "source": [
        "path_prefix = Path().parent.absolute() / 'frame-by-frame'"
      ],
      "execution_count": null,
      "outputs": []
    },
    {
      "cell_type": "code",
      "metadata": {
        "id": "m1a5qwBVliy5"
      },
      "source": [
        "resnet50 = models.resnet50(pretrained=False, progress=True, num_classes=339).to('cuda')"
      ],
      "execution_count": null,
      "outputs": []
    },
    {
      "cell_type": "markdown",
      "metadata": {
        "id": "V-Sqw4pzlskW"
      },
      "source": [
        "[Down]-load MiT-pretrained model:"
      ]
    },
    {
      "cell_type": "code",
      "metadata": {
        "id": "lQPz7402uJUS"
      },
      "source": [
        "from google.colab import drive\n",
        "drive.mount('/content/drive')"
      ],
      "execution_count": null,
      "outputs": []
    },
    {
      "cell_type": "code",
      "metadata": {
        "id": "wAnN6LWE8amP"
      },
      "source": [
        "!curl http://moments.csail.mit.edu/moments_models/resnet50_moments-fd0c4436.pth --output resnet50_moments-fd0c4436.pth\n",
        "#path_model = '/content/drive/My Drive/resnet50_moments-fd0c4436.pth'\n",
        "path_model = '/content/resnet50_moments-fd0c4436.pth'\n",
        "resnet50_moments = resnet50\n",
        "resnet50_moments.load_state_dict(torch.load(path_model))\n",
        "resnet50_moments.eval()"
      ],
      "execution_count": null,
      "outputs": []
    },
    {
      "cell_type": "code",
      "metadata": {
        "id": "02c-yYWt5kHe"
      },
      "source": [
        "transformation = transforms.Compose([\n",
        "                                     transforms.ToPILImage(mode='RGB'), # required if the input image is a nd.array\n",
        "                                     transforms.Resize(224), # To be changed to rescale to keep the aspect ration?\n",
        "                                     transforms.CenterCrop((224, 224)),\n",
        "                                     transforms.ToTensor(),\n",
        "                                     transforms.Normalize(mean=[0.485, 0.456, 0.406],\n",
        "                                                          std=[0.229, 0.224, 0.225])\n",
        "])"
      ],
      "execution_count": null,
      "outputs": []
    },
    {
      "cell_type": "code",
      "metadata": {
        "id": "_NiSQBSv7tE0"
      },
      "source": [
        "#!curl https://raw.githubusercontent.com/zhoubolei/moments_models/master/category_momentsv1.txt --output category_momentsv1.txt\n",
        "!curl https://raw.githubusercontent.com/vrabiutz/my_images/master/category_momentsv1.txt --output category_momentsv1.txt\n",
        "def load_categories():\n",
        "    \"\"\"Load categories.\"\"\"\n",
        "    with open(path_prefix / 'labels/category_momentsv1.txt') as f:\n",
        "        return [line.rstrip() for line in f.readlines()]\n",
        "\n",
        "# load categories\n",
        "categories = load_categories()"
      ],
      "execution_count": null,
      "outputs": []
    },
    {
      "cell_type": "markdown",
      "metadata": {
        "id": "_EHPolkasVfm"
      },
      "source": [
        "###### Single video"
      ]
    },
    {
      "cell_type": "code",
      "metadata": {
        "id": "w4Y7ovx8Ab1l"
      },
      "source": [
        "# Load video\n",
        "#print(os.getcwd())\n",
        "path_prefix = '/content/frame-by-frame'\n",
        "video_fname = str(path_prefix / 'data/test/abseiling_k400.mp4')\n",
        "vr = VideoReader(video_fname)#, ctx=cpu(0))\n",
        "print('video frames:', len(vr))"
      ],
      "execution_count": null,
      "outputs": []
    },
    {
      "cell_type": "markdown",
      "metadata": {
        "id": "OG90TjwPZz3P"
      },
      "source": [
        "Test on random frame"
      ]
    },
    {
      "cell_type": "code",
      "metadata": {
        "id": "0bZXzxJs5j3T"
      },
      "source": [
        "# Accuracy test\n",
        "video_frames = vr.get_batch([i for i in range(len(vr))])\n",
        "img = video_frames.asnumpy()[randint(0, len(vr))]\n",
        "\n",
        "# Image transformation\n",
        "t_img = transformation(img).to('cuda')\n",
        "print(t_img.shape)\n",
        "\n",
        "plt.imshow(t_img[0].cpu())\n",
        "plt.show()\n",
        "\n",
        "# Classification:\n",
        "logit = resnet50_moments.forward(t_img.unsqueeze(0))\n",
        "h_x = F.softmax(logit, 1).data.squeeze()\n",
        "probs, idx = h_x.sort(0, True)\n",
        "\n",
        "#print(img_url)\n",
        "# output the prediction of action category\n",
        "print('--Top Actions:')\n",
        "for i in range(0, 5):\n",
        "    print('{:.3f} -> {}'.format(probs[i], categories[idx[i]]))"
      ],
      "execution_count": null,
      "outputs": []
    },
    {
      "cell_type": "markdown",
      "metadata": {
        "id": "dD1raIi2Z2YF"
      },
      "source": [
        "Test on a range of frames"
      ]
    },
    {
      "cell_type": "code",
      "metadata": {
        "id": "_rseK2Bo9qS_"
      },
      "source": [
        "pred_accuracies = []\n",
        "true_category = 'climbing'\n",
        "\n",
        "for i in range(video_frames.shape[0]):\n",
        "    frame = video_frames.asnumpy()[i]\n",
        "    input = transformation(frame).to('cuda')\n",
        "    \n",
        "    # Classification:\n",
        "    logit = resnet50_moments.forward(input.unsqueeze(0))\n",
        "    h_x = F.softmax(logit, 1).data.squeeze()\n",
        "    probs, idx = h_x.sort(0, True)\n",
        "\n",
        "    # At each 20th frame, make a plot and print the top 5 categories with\n",
        "    # the corresponding accuracy\n",
        "    if i % 20 == 0:\n",
        "        print(i)\n",
        "        plt.imshow(input[0].cpu())\n",
        "        plt.show()\n",
        "        print('--Top Actions:')\n",
        "        for i in range(0, 5):\n",
        "            print('{:.3f} -> {}'.format(probs[i], categories[idx[i]]))\n",
        "        \n",
        "    pred_accuracies.append(probs.cpu()[[i for i in range(len(categories)) if categories[idx[i]]==true_category]])"
      ],
      "execution_count": null,
      "outputs": []
    },
    {
      "cell_type": "markdown",
      "metadata": {
        "id": "smAykcDlZ54a"
      },
      "source": [
        "Per frame accuracies"
      ]
    },
    {
      "cell_type": "code",
      "metadata": {
        "id": "nGjYgp6-nYLa"
      },
      "source": [
        "ax = sns.barplot(data=pred_accuracies)\n",
        "for ind, label in enumerate(ax.get_xticklabels()):\n",
        "    if ind % 20 == 0:  # every 10th label is kept\n",
        "        label.set_visible(True)\n",
        "    else:\n",
        "        label.set_visible(False)\n",
        "ax.set_title(f'Prediction accuracty for TRUE category \\\"{true_category}\\\"\"')\n",
        "ax.set_xlabel('Frame nr.')\n",
        "ax.set_ylabel('Prediction accuracy (softmax)')\n",
        "\n",
        "plt.show()"
      ],
      "execution_count": null,
      "outputs": []
    },
    {
      "cell_type": "markdown",
      "metadata": {
        "id": "n2ySdCXQswqz"
      },
      "source": [
        "###### Multi-video frame extraction"
      ]
    },
    {
      "cell_type": "markdown",
      "metadata": {
        "id": "aSG6a3Ri_z3-"
      },
      "source": [
        "Go through each folder of the `MIT_sampleVideos_RAW` and\n",
        "* Take the name of the category folder\n",
        "* Iterate over the videos of that category AND extract the frame-by-frame accuracy"
      ]
    },
    {
      "cell_type": "code",
      "metadata": {
        "id": "UkByzVG_KVH1"
      },
      "source": [
        "# Collect the names of all video files and their path in the dataset\n",
        "import os\n",
        "\n",
        "path_prefix = 'path/to/MIT_sampleVideos_RAW/'\n",
        "\n",
        "# Define empty dictionary for file names per category\n",
        "d_files_per_category = {}\n",
        "\n",
        "# Iterate over categories in path_prefix\n",
        "for root, dirs, files in os.walk(path_prefix, topdown=False):\n",
        "    for name in sorted(dirs):\n",
        "        category_path = os.path.join(root, name)\n",
        "        category_name = category_path.split('/')[-1]\n",
        "        print(category_name)\n",
        "\n",
        "        # Iterate over files in cateogory_path\n",
        "        d_files_per_category[category_name] = {}\n",
        "        for root2, dirs2, videos  in os.walk(category_path, topdown=False):\n",
        "            for video in videos:\n",
        "                video_fname = os.path.join(root2, video)\n",
        "                \n",
        "                d_files_per_category[category_name][video] = video_fname\n"
      ],
      "execution_count": null,
      "outputs": []
    },
    {
      "cell_type": "markdown",
      "metadata": {
        "id": "hkkLAM_Ozo2s"
      },
      "source": [
        "Routine to extract TRUE category accuracy per frame"
      ]
    },
    {
      "cell_type": "code",
      "metadata": {
        "id": "hzp0NtbZs0cq"
      },
      "source": [
        "import time\n",
        "from torch.nn import functional as F\n",
        "\n",
        "accuracies_per_category = {}\n",
        "times_per_file = []\n",
        "\n",
        "z = 1 # For verbose\n",
        "# Iterate over categories in path_prefix\n",
        "for category_name in list(d_files_per_category.keys()):\n",
        "    print(f'{category_name} {z}/{len(list(d_files_per_category.keys()))}')\n",
        "    z += 1\n",
        "    # Iterate over files in cateogory_path\n",
        "    accuracies_per_category[category_name] = {}\n",
        "    for video in list(d_files_per_category[category_name]):\n",
        "        #start_time = time.time()\n",
        "        video_fname = d_files_per_category[category_name][video]\n",
        "        \n",
        "        print('\\t', video)\n",
        "\n",
        "        # Load video with Decord.VideoReader\n",
        "        vr = VideoReader(video_fname, ctx=cpu(0))\n",
        "        frame_id_list = range(0, len(vr), 1)\n",
        "        video_frames = vr.get_batch(frame_id_list)\n",
        "\n",
        "        pred_accuracies = []\n",
        "        true_category = category_name\n",
        "        #true_category = 'bathing'\n",
        "\n",
        "        start_time = time.time()\n",
        "        for i in range(video_frames.shape[0]):\n",
        "            \n",
        "            frame = video_frames.asnumpy()[i]\n",
        "            input = transformation(frame).to('cuda')\n",
        "            \n",
        "            # Classification:\n",
        "            logit = resnet50_moments.forward(input.unsqueeze(0))\n",
        "            h_x = F.softmax(logit, 1).data.squeeze()\n",
        "            probs, idx = h_x.sort(0, True)\n",
        "            # Save accuracies\n",
        "            #pred_accuracies.append(probs.numpy()[[i for i in range(len(categories)) if categories[idx[i]]==true_category]])\n",
        "            pred_accuracies.append(probs.cpu().numpy()[[i for i in range(len(categories)) if categories[idx[i]]==category_name]])\n",
        "        # Calculate avg duration per frame\n",
        "        end_time = time.time()\n",
        "        print('\\tAvg duration per frame: %4.4f seconds.' % ((end_time - start_time)/(10*video_frames.shape[0])))\n",
        "        \n",
        "        accuracies_per_category[category_name][video] = pred_accuracies\n",
        "        #accuracies_per_file.append(pred_accuracies)\n",
        "        times_per_file.append((end_time - start_time)/10)\n",
        "#accuracies_per_category.append(accuracies_per_file)  "
      ],
      "execution_count": null,
      "outputs": []
    },
    {
      "cell_type": "code",
      "metadata": {
        "id": "VDBR2HNyLZHO"
      },
      "source": [
        "# Save dictionary to pickle file\n",
        "import pickle\n",
        "dict_path = '/frame-by-frame/saved/accuracies_per_category_ResNet50_MiTv1.pkl'\n",
        "f = open(dict_path, 'wb')\n",
        "pickle.dump(accuracies_per_category, f)\n",
        "f.close()"
      ],
      "execution_count": null,
      "outputs": []
    },
    {
      "cell_type": "code",
      "metadata": {
        "id": "zJGvFhXZekrW"
      },
      "source": [
        "# Load\n",
        "import pickle\n",
        "dict_path = '/frame-by-frame/saved/accuracies_per_category_ResNet50_MiTv1.pkl'\n",
        "f = open(dict_path, 'rb')\n",
        "accuracies_per_category = pickle.load(f)"
      ],
      "execution_count": null,
      "outputs": []
    },
    {
      "cell_type": "markdown",
      "metadata": {
        "id": "f87eX8Gqa72l"
      },
      "source": [
        "Test plot for single file"
      ]
    },
    {
      "cell_type": "code",
      "metadata": {
        "id": "7h6j5BkIGGT0"
      },
      "source": [
        "import seaborn as sns\n",
        "ax = sns.barplot(data=accuracies_per_category['breaking']['giphy-LirabC73gVe92_3.mp4'])\n",
        "for ind, label in enumerate(ax.get_xticklabels()):\n",
        "    if ind % 10 == 0:  # every 10th label is kept\n",
        "        label.set_visible(True)\n",
        "    else:\n",
        "        label.set_visible(False)\n",
        "ax.set_title(f'Prediction accuracty for TRUE category \\\"{true_category}\\\"\"')\n",
        "ax.set_xlabel('Frame nr.')\n",
        "ax.set_ylabel('Prediction accuracy (softmax)')\n",
        "\n",
        "plt.show()"
      ],
      "execution_count": null,
      "outputs": []
    },
    {
      "cell_type": "markdown",
      "metadata": {
        "id": "B6Gnxvovzzb9"
      },
      "source": [
        "###### Multi-video, multi-category per-frame accuracy extraction"
      ]
    },
    {
      "cell_type": "code",
      "metadata": {
        "id": "8RFtbNol22C2"
      },
      "source": [
        "import pickle\n",
        "import time\n",
        "from torch.nn import functional as F"
      ],
      "execution_count": null,
      "outputs": []
    },
    {
      "cell_type": "code",
      "metadata": {
        "id": "AzIexALfz-2g"
      },
      "source": [
        "accuracies_per_category = {}\n",
        "times_per_file = []\n",
        "\n",
        "z = 250 # For verbose\n",
        "N = 50 # Multiples at which to save the dictionary\n",
        "\n",
        "# Iterate over categories in path_prefix\n",
        "for category_name in list(d_files_per_category.keys())[250:]:\n",
        "    print(f'{category_name} {z}/{len(list(d_files_per_category.keys()))}')\n",
        "    z += 1\n",
        "    # Iterate over files in cateogory_path\n",
        "    accuracies_per_category[category_name] = {}\n",
        "    for video in list(d_files_per_category[category_name]):\n",
        "        #start_time = time.time()\n",
        "        video_fname = d_files_per_category[category_name][video]\n",
        "        \n",
        "        print('\\t', video)\n",
        "\n",
        "        # Load video with Decord.VideoReader\n",
        "        vr = VideoReader(video_fname, ctx=cpu(0))\n",
        "        frame_id_list = range(0, len(vr), 1)\n",
        "        video_frames = vr.get_batch(frame_id_list)\n",
        "\n",
        "        pred_accuracies = []\n",
        "        true_category = category_name\n",
        "        #true_category = 'bathing'\n",
        "\n",
        "        start_time = time.time()\n",
        "        for i in range(video_frames.shape[0]):\n",
        "            \n",
        "            frame = video_frames.asnumpy()[i]\n",
        "            input = transformation(frame).to('cuda')\n",
        "            \n",
        "            # Classification:\n",
        "            logit = resnet50_moments.forward(input.unsqueeze(0))\n",
        "            h_x = F.softmax(logit, 1).data.squeeze().tolist()\n",
        "            # Save accuracies\n",
        "            pred_accuracies.append(h_x)\n",
        "        # Calculate avg duration per frame\n",
        "        end_time = time.time()\n",
        "        print('\\tAvg duration per frame: %4.4f seconds.' % ((end_time - start_time)/(10*video_frames.shape[0])))\n",
        "        \n",
        "        accuracies_per_category[category_name][video] = pred_accuracies\n",
        "\n",
        "    # Save at every 50 categories:\n",
        "    if z % N == 0:\n",
        "        dict_path = f'/frame-by-frame/saved/accuracies_per_category_full_{z}.pkl'\n",
        "        f = open(dict_path, 'wb')\n",
        "        pickle.dump(accuracies_per_category, f)\n",
        "        f.close()\n",
        "#accuracies_per_category.append(accuracies_per_file)  "
      ],
      "execution_count": null,
      "outputs": []
    },
    {
      "cell_type": "markdown",
      "metadata": {
        "id": "eMxk1Iq-brOu"
      },
      "source": [
        "Test plot"
      ]
    },
    {
      "cell_type": "code",
      "metadata": {
        "id": "VdbTnX9G1Uux"
      },
      "source": [
        "import seaborn as sns\n",
        "ax = sns.barplot(data=accuracies_per_category['breaking']['giphy-LirabC73gVe92_3.mp4'])\n",
        "for ind, label in enumerate(ax.get_xticklabels()):\n",
        "    if ind % 10 == 0:  # every 10th label is kept\n",
        "        label.set_visible(True)\n",
        "    else:\n",
        "        label.set_visible(False)\n",
        "ax.set_title(f'Prediction accuracty for TRUE category \\\"{true_category}\\\"\"')\n",
        "ax.set_xlabel('Frame nr.')\n",
        "ax.set_ylabel('Prediction accuracy (softmax)')\n",
        "\n",
        "plt.show()"
      ],
      "execution_count": null,
      "outputs": []
    },
    {
      "cell_type": "markdown",
      "metadata": {
        "id": "RPUYeePoIe4Y"
      },
      "source": [
        "##### I3D (Kinetics) (**TODO**)"
      ]
    },
    {
      "cell_type": "code",
      "metadata": {
        "id": "JyfwkLdeH_xA"
      },
      "source": [
        "%%bash\n",
        "pip install --upgrade pip\n",
        "pip install --upgrade numpy\n",
        "pip install --upgrade tensorflow tensorflow-gpu tensorflow-probability\n",
        "pip install --upgrade dm-sonnet tqdm\n",
        "#git clone https://github.com/deepmind/kinetics-i3d"
      ],
      "execution_count": null,
      "outputs": []
    },
    {
      "cell_type": "code",
      "metadata": {
        "id": "53qV17UbyxyX"
      },
      "source": [
        "import sonnet as snt\n",
        "import tensorflow as tf"
      ],
      "execution_count": null,
      "outputs": []
    },
    {
      "cell_type": "code",
      "metadata": {
        "id": "E583NSjuyhLa"
      },
      "source": [
        "print(\"TensorFlow version: {}\".format(tf.__version__))\n",
        "print(\"    Sonnet version: {}\".format(snt.__version__))"
      ],
      "execution_count": null,
      "outputs": []
    },
    {
      "cell_type": "code",
      "metadata": {
        "id": "fDyF3Zehy49K"
      },
      "source": [
        "class MLP(snt.Module):\n",
        "\n",
        "  def __init__(self):\n",
        "    super(MLP, self).__init__()\n",
        "    self.flatten = snt.Flatten()\n",
        "    self.hidden1 = snt.Linear(1024, name=\"hidden1\")\n",
        "    self.hidden2 = snt.Linear(1024, name=\"hidden2\")\n",
        "    self.logits = snt.Linear(10, name=\"logits\")\n",
        "\n",
        "  def __call__(self, images):\n",
        "    output = self.flatten(images)\n",
        "    output = tf.nn.relu(self.hidden1(output))\n",
        "    output = tf.nn.relu(self.hidden2(output))\n",
        "    output = self.logits(output)\n",
        "    return output"
      ],
      "execution_count": null,
      "outputs": []
    },
    {
      "cell_type": "code",
      "metadata": {
        "id": "xXZpc4D6y6F-"
      },
      "source": [
        "mlp = MLP()\n",
        "mlp"
      ],
      "execution_count": null,
      "outputs": []
    },
    {
      "cell_type": "code",
      "metadata": {
        "id": "KgXqrTxmK9GS"
      },
      "source": [
        "%%bash\n",
        "cd kinetics-i3d/\n",
        "python i3d_test.py"
      ],
      "execution_count": null,
      "outputs": []
    },
    {
      "cell_type": "code",
      "metadata": {
        "id": "xc6XTldXJMn2"
      },
      "source": [
        "import tensorflow_hub as hub"
      ],
      "execution_count": null,
      "outputs": []
    },
    {
      "cell_type": "code",
      "metadata": {
        "id": "AezeOl3UMUMj"
      },
      "source": [
        "i3d = hub.load(\"https://tfhub.dev/deepmind/i3d-kinetics-400/1\").signatures['default']"
      ],
      "execution_count": null,
      "outputs": []
    },
    {
      "cell_type": "code",
      "metadata": {
        "id": "A8HN2m8mQj-O"
      },
      "source": [
        "_LABEL_MAP_PATH = '/content/kinetics-i3d/data/label_map.txt'\n",
        "kinetics_classes = [x.strip() for x in open(_LABEL_MAP_PATH)]"
      ],
      "execution_count": null,
      "outputs": []
    },
    {
      "cell_type": "code",
      "metadata": {
        "id": "0FutsaLFVaPA"
      },
      "source": [
        "import cv2\n",
        "import numpy as np"
      ],
      "execution_count": null,
      "outputs": []
    },
    {
      "cell_type": "code",
      "metadata": {
        "id": "sU4qf8YCVw5j"
      },
      "source": [
        "# Utilities to open video files using CV2\n",
        "def crop_center_square(frame):\n",
        "  y, x = frame.shape[0:2]\n",
        "  min_dim = min(y, x)\n",
        "  start_x = (x // 2) - (min_dim // 2)\n",
        "  start_y = (y // 2) - (min_dim // 2)\n",
        "  return frame[start_y:start_y+min_dim,start_x:start_x+min_dim]"
      ],
      "execution_count": null,
      "outputs": []
    },
    {
      "cell_type": "code",
      "metadata": {
        "id": "PBwD_8xyVV1E"
      },
      "source": [
        "def load_video(path, max_frames=0, resize=(224, 224)):\n",
        "  cap = cv2.VideoCapture(path)\n",
        "  frames = []\n",
        "  try:\n",
        "    while True:\n",
        "      ret, frame = cap.read()\n",
        "      if not ret:\n",
        "        break\n",
        "      frame = crop_center_square(frame)\n",
        "      frame = cv2.resize(frame, resize)\n",
        "      frame = frame[:, :, [2, 1, 0]]\n",
        "      frames.append(frame)\n",
        "      \n",
        "      if len(frames) == max_frames:\n",
        "        break\n",
        "  finally:\n",
        "    cap.release()\n",
        "  return np.array(frames) / 255.0"
      ],
      "execution_count": null,
      "outputs": []
    },
    {
      "cell_type": "code",
      "metadata": {
        "id": "ppKeLbGKVd48"
      },
      "source": [
        "sample = load_video(video_fname, max_frames=250)"
      ],
      "execution_count": null,
      "outputs": []
    },
    {
      "cell_type": "code",
      "metadata": {
        "id": "Q7O9fylwOJj-"
      },
      "source": [
        "def predict(sample_video, labels):\n",
        "    # Add a batch axis to the to the sample video.\n",
        "    model_input = tf.constant(sample_video, dtype=tf.float32)[tf.newaxis, ...]\n",
        "    #print(model_input.shape)\n",
        "\n",
        "    logits = i3d(model_input)['default']#[0]\n",
        "    probabilities = tf.nn.softmax(logits[0])\n",
        "    print(logits.shape)\n",
        "\n",
        "    print(\"Top 5 actions:\")\n",
        "    for i in np.argsort(probabilities)[::-1][:5]:\n",
        "        print(f\"  {labels[i]:22}: {probabilities[i] * 100:5.2f}%\")\n",
        "    return logits"
      ],
      "execution_count": null,
      "outputs": []
    },
    {
      "cell_type": "code",
      "metadata": {
        "id": "kM00eXd3Micr"
      },
      "source": [
        "logits = predict(sample, kinetics_classes)"
      ],
      "execution_count": null,
      "outputs": []
    },
    {
      "cell_type": "code",
      "metadata": {
        "id": "JhlXHaljMfW7"
      },
      "source": [
        "logits.shape"
      ],
      "execution_count": null,
      "outputs": []
    },
    {
      "cell_type": "markdown",
      "metadata": {
        "id": "DibzhRYP3ep-"
      },
      "source": [
        "##### I3D (OanaIgnat) (**TODO**)"
      ]
    },
    {
      "cell_type": "code",
      "metadata": {
        "id": "f0xNk1VFMnCO"
      },
      "source": [
        "!git clone https://github.com/OanaIgnat/i3d_keras.git"
      ],
      "execution_count": null,
      "outputs": []
    },
    {
      "cell_type": "code",
      "metadata": {
        "id": "PzpWAz5p3nnB"
      },
      "source": [
        "%%bash\n",
        "cd i3d_keras/\n",
        "./main.sh"
      ],
      "execution_count": null,
      "outputs": []
    },
    {
      "cell_type": "code",
      "metadata": {
        "id": "cXL59vzI37V1"
      },
      "source": [
        "!cp abseiling_k400 id"
      ],
      "execution_count": null,
      "outputs": []
    },
    {
      "cell_type": "markdown",
      "metadata": {
        "id": "dnxpkDXeUZYq"
      },
      "source": [
        ""
      ]
    },
    {
      "cell_type": "markdown",
      "metadata": {
        "id": "UiJpzRBoRXpF"
      },
      "source": [
        "## Vizualizations"
      ]
    },
    {
      "cell_type": "markdown",
      "metadata": {
        "id": "TqoJRTHoVO6R"
      },
      "source": [
        "After extracting accuracies over frames for all categories and saving them as nested dictionaries in `frame-by-frame/saved/` as `.pkl` file, it would be useful to visualize these quantities. \\\\\n",
        "For that, load the nested dictionary from pickle file:"
      ]
    },
    {
      "cell_type": "code",
      "metadata": {
        "id": "e03zVCIMXLPE"
      },
      "source": [
        "# Imports"
      ],
      "execution_count": null,
      "outputs": []
    },
    {
      "cell_type": "code",
      "metadata": {
        "id": "rRA0XET4XNRq"
      },
      "source": [
        "import pickle\n",
        "from pathlib import Path\n",
        "\n",
        "import numpy as np\n",
        "import pandas as pd\n",
        "\n",
        "import seaborn as sns\n",
        "import matplotlib.pyplot as plt\n",
        "from PIL import Image"
      ],
      "execution_count": null,
      "outputs": []
    },
    {
      "cell_type": "code",
      "metadata": {
        "id": "LFwUzwg1agNf"
      },
      "source": [
        "# Define paths\n",
        "path_prefix = Path().parent.absolute() / 'frame-by-frame'\n",
        "dict_path = path_prefix / 'saved/ResNet50_MiTv1_accuracies_per_category.pkl'\n",
        "# Load from file\n",
        "f = open(dict_path, 'rb')\n",
        "accuracies_per_category = pickle.load(f)\n",
        "# Print the categories\n",
        "print(sorted(list(accuracies_per_category.keys())))"
      ],
      "execution_count": null,
      "outputs": []
    },
    {
      "cell_type": "markdown",
      "metadata": {
        "id": "-zq-alDxW_EN"
      },
      "source": [
        "###### Max-accuracy frame"
      ]
    },
    {
      "cell_type": "markdown",
      "metadata": {
        "id": "KiA8ieleXq7H"
      },
      "source": [
        "Example of per-frame accuracies from a given file: "
      ]
    },
    {
      "cell_type": "code",
      "metadata": {
        "id": "o462wQjZTl2V"
      },
      "source": [
        "x = np.array(accuracies_per_category['cuddling']['yt-bsmpimPzz4c_8.mp4'])\n",
        "x = x.reshape((len(accuracies_per_category['cuddling']['yt-bsmpimPzz4c_8.mp4'], )))\n",
        "print(x)\n",
        "print(f'Max accuracy at frame: {np.argmax(x)} with value: {x[np.argmax(x)]}')"
      ],
      "execution_count": null,
      "outputs": []
    },
    {
      "cell_type": "markdown",
      "metadata": {
        "id": "iPXkcD9DSq5Q"
      },
      "source": [
        "Sweep through categories and through files and extract the frame number where the accuracy is maximal:"
      ]
    },
    {
      "cell_type": "code",
      "metadata": {
        "id": "HFZiYGYjSg73"
      },
      "source": [
        "best_frame_dict = {}\n",
        "worst_frame_dict = {}\n",
        "z = 1 # For verbose\n",
        "# Iterate over categories in path_prefix\n",
        "for category_name in sorted(list(accuracies_per_category.keys())):\n",
        "    print(f'{category_name} {z}/{len(list(accuracies_per_category.keys()))}')\n",
        "    z += 1\n",
        "\n",
        "    best_frame_dict[category_name] = {}\n",
        "    worst_frame_dict[category_name] = {}\n",
        "    # Iterate over files in cateogory\n",
        "    for video_fname in list(accuracies_per_category[category_name].keys()):\n",
        "\n",
        "        # Extract accuracies as (n_frames, 1) arrays\n",
        "        per_frame_accuracies = np.array(accuracies_per_category[category_name][video_fname])\n",
        "        per_frame_accuracies.reshape((per_frame_accuracies.shape[0], ))\n",
        "        \n",
        "        print(f'\\t{video_fname} : Min/Max accuracy at frame:' \\\n",
        "        f' {np.argmax(per_frame_accuracies)}/{np.argmin(per_frame_accuracies)}' \\\n",
        "        f' with value: {per_frame_accuracies[np.argmax(per_frame_accuracies)]}' \\\n",
        "        f' / {per_frame_accuracies[np.argmin(per_frame_accuracies)]}')\n",
        "\n",
        "\n",
        "        # Determined the index of the frame w/ max accuracy and write to dict\n",
        "        best_frame_dict[category_name][video_fname] = (np.argmax(per_frame_accuracies),\n",
        "                                                       per_frame_accuracies[np.argmax(per_frame_accuracies)])\n",
        "        worst_frame_dict[category_name][video_fname] = (np.argmin(per_frame_accuracies),\n",
        "                                                        per_frame_accuracies[np.argmin(per_frame_accuracies)])\n",
        "        "
      ],
      "execution_count": null,
      "outputs": []
    },
    {
      "cell_type": "code",
      "metadata": {
        "id": "FAJm0ybQY8QL"
      },
      "source": [
        "per_category = []\n",
        "z = 1\n",
        "for category_name in sorted(list(accuracies_per_category.keys())):\n",
        "    print(f'{category_name} {z}/{len(list(accuracies_per_category.keys()))}')\n",
        "    \n",
        "    z += 1\n",
        "    vals = []\n",
        "    # Iterate over files in cateogory\n",
        "    for video_fname in list(accuracies_per_category[category_name].keys()):\n",
        "        vals.append(best_frame_dict[category_name][video_fname][1][0])\n",
        "        #print(best_frame_dict[category_name][video_fname][1][0])\n",
        "    if np.array(vals).size != 0: # If not empty\n",
        "        #print(np.amax(np.array(vals)))\n",
        "        per_category.append([category_name, np.mean(vals)]) # np.amax(vals) for max value\n",
        "print(per_category)"
      ],
      "execution_count": null,
      "outputs": []
    },
    {
      "cell_type": "code",
      "metadata": {
        "id": "6nrmOZkchEJs"
      },
      "source": [
        "import pandas as pd\n",
        "acc_df = pd.DataFrame(columns = ['labels', 'accuracies'], data=np.array(per_category))\n",
        "#acc_df = acc_df['accuracies'].explode()\n",
        "acc_df['accuracies'] = acc_df['accuracies'].astype('float')\n",
        "# Sort values\n",
        "acc_df = acc_df.sort_values(by=['accuracies'], ascending=False)\n",
        "print(acc_df.head())"
      ],
      "execution_count": null,
      "outputs": []
    },
    {
      "cell_type": "code",
      "metadata": {
        "id": "o0eYTFfckN00"
      },
      "source": [
        "from matplotlib import rc\n",
        "import matplotlib.ticker as ticker\n",
        "rc('text', usetex=False) # change to True, if TeX is installed\n",
        "\n",
        "sns.set_style(\"whitegrid\", {'grid.linestyle': '--'})\n",
        "\n",
        "plt.figure(figsize=(30, 5))\n",
        "ax = sns.barplot(x = 'labels', y = 'accuracies',\n",
        "                 data=acc_df)\n",
        "\n",
        "plt.xticks(rotation=90, size=6)\n",
        "ax.yaxis.set_major_locator(ticker.MultipleLocator(0.1))\n",
        "ax.set_title(f'Ordered classification accuracies per category (average over videos) w/ ResNet50-MiTv1')\n",
        "ax.set_xlabel('Categories')\n",
        "ax.set_ylabel('Classification accuracy (softmax)')\n",
        "#plt.savefig('ordered_accuracies_RN50_MiTv1.pdf')\n",
        "plt.show()"
      ],
      "execution_count": null,
      "outputs": []
    },
    {
      "cell_type": "markdown",
      "metadata": {
        "id": "vfF3uMoqdk_T"
      },
      "source": [
        "###### Best vs. Worst frame"
      ]
    },
    {
      "cell_type": "code",
      "metadata": {
        "id": "sqlfDVWtfMRn"
      },
      "source": [
        "# Imports\n",
        "from decord import VideoReader\n",
        "from decord import cpu #, gpu\n",
        "import decord\n",
        "decord.bridge.set_bridge('native') # Seems to be the fastest option"
      ],
      "execution_count": null,
      "outputs": []
    },
    {
      "cell_type": "code",
      "metadata": {
        "id": "hf5t8jxpdolJ"
      },
      "source": [
        "c_name = 'jogging' # because it's loadead in repo\n",
        "f_name =  'yt-cN0DqxL3bgM_52.mp4' #'yt-mKCXk3Gu-eg_74.mp4'\n",
        "\n",
        "x = np.array(accuracies_per_category[c_name][f_name])\n",
        "x = x.reshape((len(x, )))\n",
        "print(x)\n",
        "print(f'{video_fname} : Max/Min accuracy at frame:' \\\n",
        "        f' {np.argmax(per_frame_accuracies)}/{np.argmin(per_frame_accuracies)}' \\\n",
        "        f' with value: {per_frame_accuracies[np.argmax(per_frame_accuracies)]}' \\\n",
        "        f' / {per_frame_accuracies[np.argmin(per_frame_accuracies)]}')"
      ],
      "execution_count": null,
      "outputs": []
    },
    {
      "cell_type": "code",
      "metadata": {
        "id": "6PfTus7VluLL"
      },
      "source": [
        "import seaborn as sns\n",
        "ax = sns.barplot(data=accuracies_per_category[c_name][f_name])\n",
        "for ind, label in enumerate(ax.get_xticklabels()):\n",
        "    if ind % 10 == 0:  # every 10th label is kept\n",
        "        label.set_visible(True)\n",
        "    else:\n",
        "        label.set_visible(False)\n",
        "ax.set_title(f'Prediction accuracty for \\\"{c_name}\\\"\"')\n",
        "ax.set_xlabel('Frame nr.')\n",
        "ax.set_ylabel('Prediction accuracy (softmax)')\n",
        "\n",
        "plt.show()"
      ],
      "execution_count": null,
      "outputs": []
    },
    {
      "cell_type": "code",
      "metadata": {
        "id": "auKC65RTeKg9"
      },
      "source": [
        "# Load file\n",
        "path_2_file = path_prefix / f'data/MIT_sampleVideos_RAW/{c_name}/{f_name}'\n",
        "vr = VideoReader(str(path_2_file))"
      ],
      "execution_count": null,
      "outputs": []
    },
    {
      "cell_type": "code",
      "metadata": {
        "id": "mYshCrAefvoV"
      },
      "source": [
        "# Load best and worst frames\n",
        "best_idx  = best_frame_dict[c_name][f_name][0]\n",
        "worst_idx = worst_frame_dict[c_name][f_name][0]\n",
        "\n",
        "best_frame = vr.get_batch([best_idx])\n",
        "worst_frame = vr.get_batch([worst_idx])"
      ],
      "execution_count": null,
      "outputs": []
    },
    {
      "cell_type": "code",
      "metadata": {
        "id": "FDoVSwN6miHW"
      },
      "source": [
        "sns.set_style(\"whitegrid\", {'grid.linestyle': '--'})\n",
        "\n",
        "plt.figure(figsize=(20, 10))\n",
        "\n",
        "ax1 = plt.subplot(212)\n",
        "#ax1.margins(0.05)          \n",
        "ax1 = sns.barplot(data=accuracies_per_category[c_name][f_name])\n",
        "ax1.set_title('Per-frame accuracies')\n",
        "ax1.set_xlabel('Frame nr.')\n",
        "ax1.set_ylabel('Prediction accuracy (softmax)')\n",
        "\n",
        "\n",
        "ax2 = plt.subplot(221)\n",
        "#ax2.margins(2, 2)           \n",
        "ax2.imshow(worst_frame.asnumpy()[0])\n",
        "ax2.set_title(f'Worst frame ({worst_idx})')\n",
        "\n",
        "ax3 = plt.subplot(222)\n",
        "#ax3.margins(x=0, y=-0.25)  \n",
        "ax3.imshow(best_frame.asnumpy()[0])\n",
        "ax3.set_title(f'Best frame ({best_idx})')\n",
        "\n",
        "plt.savefig(str(path_prefix / 'plots/best_vs_worst_frame_example.pdf'))\n",
        "plt.show()"
      ],
      "execution_count": null,
      "outputs": []
    },
    {
      "cell_type": "code",
      "metadata": {
        "id": "Kod9DzBZs94g"
      },
      "source": [
        "c_name = 'throwing' # because it's loadead in repo\n",
        "f_name =  'yt-_9SB27cLFKo_6.mp4' #'yt-mKCXk3Gu-eg_74.mp4'\n",
        "\n",
        "# Load file\n",
        "path_2_file =  f'/content/{c_name}/{f_name}'\n",
        "vr = VideoReader(str(path_2_file))\n",
        "\n",
        "# Load best and worst frames\n",
        "best_idx  = best_frame_dict[c_name][f_name][0]\n",
        "worst_idx = worst_frame_dict[c_name][f_name][0]\n",
        "\n",
        "best_frame = vr.get_batch([best_idx])\n",
        "worst_frame = vr.get_batch([worst_idx])\n",
        "\n",
        "# Plot\n",
        "sns.set_style(\"whitegrid\", {'grid.linestyle': '--'})\n",
        "\n",
        "plt.figure(figsize=(20, 10))\n",
        "\n",
        "ax1 = plt.subplot(212)\n",
        "#ax1.margins(0.05)          \n",
        "ax1 = sns.barplot(data=accuracies_per_category[c_name][f_name])\n",
        "ax1.set_title('Per-frame accuracies')\n",
        "ax1.set_xlabel('Frame nr.')\n",
        "ax1.set_ylabel('Prediction accuracy (softmax)')\n",
        "\n",
        "\n",
        "ax2 = plt.subplot(221)\n",
        "#ax2.margins(2, 2)           \n",
        "ax2.imshow(worst_frame.asnumpy()[0])\n",
        "ax2.set_title(f'Worst frame ({worst_idx})')\n",
        "\n",
        "ax3 = plt.subplot(222)\n",
        "#ax3.margins(x=0, y=-0.25)  \n",
        "ax3.imshow(best_frame.asnumpy()[0])\n",
        "ax3.set_title(f'Best frame ({best_idx})')\n",
        "\n",
        "plt.savefig(str(path_prefix / 'plots/best_vs_worst_frame_example_throwing.pdf'))\n",
        "plt.show()"
      ],
      "execution_count": null,
      "outputs": []
    },
    {
      "cell_type": "code",
      "metadata": {
        "id": "6FXhwybetTXQ"
      },
      "source": [
        ""
      ],
      "execution_count": null,
      "outputs": []
    }
  ]
}